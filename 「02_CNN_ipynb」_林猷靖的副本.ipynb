{
  "nbformat": 4,
  "nbformat_minor": 0,
  "metadata": {
    "kernelspec": {
      "display_name": "Python 3",
      "language": "python",
      "name": "python3"
    },
    "language_info": {
      "codemirror_mode": {
        "name": "ipython",
        "version": 3
      },
      "file_extension": ".py",
      "mimetype": "text/x-python",
      "name": "python",
      "nbconvert_exporter": "python",
      "pygments_lexer": "ipython3",
      "version": "3.7.3"
    },
    "colab": {
      "name": "「02 CNN.ipynb」_林猷靖的副本",
      "provenance": []
    },
    "accelerator": "GPU"
  },
  "cells": [
    {
      "cell_type": "code",
      "metadata": {
        "id": "Z-D0Nn0H9ieR"
      },
      "source": [
        "%matplotlib inline\n",
        "\n",
        "import numpy as np\n",
        "import matplotlib.pyplot as plt\n",
        "import pandas as pd"
      ],
      "execution_count": 2,
      "outputs": []
    },
    {
      "cell_type": "code",
      "metadata": {
        "id": "okGaNHIo9ief"
      },
      "source": [
        "from tensorflow.keras.utils import to_categorical\n",
        "from tensorflow.keras.models import Sequential\n",
        "from tensorflow.keras.layers import Conv2D, MaxPooling2D\n",
        "from tensorflow.keras.layers import Dense, Flatten\n",
        "from tensorflow.keras.optimizers import SGD"
      ],
      "execution_count": 3,
      "outputs": []
    },
    {
      "cell_type": "markdown",
      "metadata": {
        "id": "GGW7XIrm9iem"
      },
      "source": [
        "### 1. 讀入 MNSIT 數據集"
      ]
    },
    {
      "cell_type": "code",
      "metadata": {
        "id": "fG0cMTC_9iep"
      },
      "source": [
        "from tensorflow.keras.datasets import mnist"
      ],
      "execution_count": 4,
      "outputs": []
    },
    {
      "cell_type": "code",
      "metadata": {
        "id": "leFZWstD9iey",
        "outputId": "72306806-dcef-4107-e5ad-260809884517",
        "colab": {
          "base_uri": "https://localhost:8080/"
        }
      },
      "source": [
        "(x_train, y_train), (x_test, y_test) = mnist.load_data()"
      ],
      "execution_count": 5,
      "outputs": [
        {
          "output_type": "stream",
          "text": [
            "Downloading data from https://storage.googleapis.com/tensorflow/tf-keras-datasets/mnist.npz\n",
            "11493376/11490434 [==============================] - 0s 0us/step\n"
          ],
          "name": "stdout"
        }
      ]
    },
    {
      "cell_type": "markdown",
      "metadata": {
        "id": "wxyVKemb9ie5"
      },
      "source": [
        "### 2. 資料整理"
      ]
    },
    {
      "cell_type": "markdown",
      "metadata": {
        "id": "JVRbynDR9ie7"
      },
      "source": [
        "### Channel\n",
        "\n",
        "CNN 要注意一張圖有多少個 channel, 開始我們因為只有灰階, 所以只有一個 channel。因此我們要轉一下我們的資料格式:\n",
        "\n",
        "    (28,28) --> (28, 28, 1)"
      ]
    },
    {
      "cell_type": "code",
      "metadata": {
        "id": "Mh2M1z2p9ie9"
      },
      "source": [
        "x_train = x_train.reshape(60000, 28, 28, 1) / 255"
      ],
      "execution_count": 6,
      "outputs": []
    },
    {
      "cell_type": "code",
      "metadata": {
        "id": "B9Sltmds9ifE"
      },
      "source": [
        "x_test = x_test.reshape(10000, 28, 28, 1) / 255"
      ],
      "execution_count": 7,
      "outputs": []
    },
    {
      "cell_type": "code",
      "metadata": {
        "id": "quPqc8MH9ifN"
      },
      "source": [
        "y_train = to_categorical(y_train, 10)\n",
        "y_test = to_categorical(y_test, 10)"
      ],
      "execution_count": 8,
      "outputs": []
    },
    {
      "cell_type": "markdown",
      "metadata": {
        "id": "CDuvZuAR9ifV"
      },
      "source": [
        "### 3. step 1: 打造函數學習機 (CNN)"
      ]
    },
    {
      "cell_type": "code",
      "metadata": {
        "id": "Yo69TTBm9ifW"
      },
      "source": [
        "model = Sequential()"
      ],
      "execution_count": 9,
      "outputs": []
    },
    {
      "cell_type": "code",
      "metadata": {
        "id": "gXGH0s9p9ifc"
      },
      "source": [
        "model.add(Conv2D(16, (3,3), padding='same',\n",
        "                input_shape=(28,28,1),\n",
        "                activation='relu'))"
      ],
      "execution_count": 10,
      "outputs": []
    },
    {
      "cell_type": "code",
      "metadata": {
        "id": "PAuXOClZ9ifi"
      },
      "source": [
        "model.add(MaxPooling2D(pool_size=(2,2)))"
      ],
      "execution_count": 11,
      "outputs": []
    },
    {
      "cell_type": "code",
      "metadata": {
        "id": "jZDE2hvK9ifo"
      },
      "source": [
        "model.add(Conv2D(32, (3,3), padding='same',\n",
        "                activation='relu'))"
      ],
      "execution_count": 12,
      "outputs": []
    },
    {
      "cell_type": "code",
      "metadata": {
        "id": "8LjYCClT9ift"
      },
      "source": [
        "model.add(MaxPooling2D(pool_size=(2,2)))"
      ],
      "execution_count": 14,
      "outputs": []
    },
    {
      "cell_type": "code",
      "metadata": {
        "id": "HfHBTpjz9ify"
      },
      "source": [
        "model.add(Conv2D(64, (3,3), padding='same',\n",
        "                activation='relu'))"
      ],
      "execution_count": 15,
      "outputs": []
    },
    {
      "cell_type": "code",
      "metadata": {
        "id": "XEuVGEa99if4"
      },
      "source": [
        "model.add(MaxPooling2D(pool_size=(2,2)))"
      ],
      "execution_count": 16,
      "outputs": []
    },
    {
      "cell_type": "code",
      "metadata": {
        "id": "YH_z97cH9if_"
      },
      "source": [
        "model.add(Flatten())"
      ],
      "execution_count": 17,
      "outputs": []
    },
    {
      "cell_type": "code",
      "metadata": {
        "id": "SmPsLggN9igC"
      },
      "source": [
        "model.add(Dense(54, activation='relu'))"
      ],
      "execution_count": 18,
      "outputs": []
    },
    {
      "cell_type": "code",
      "metadata": {
        "id": "9DciBp749igF"
      },
      "source": [
        "model.add(Dense(10, activation='softmax'))"
      ],
      "execution_count": 19,
      "outputs": []
    },
    {
      "cell_type": "markdown",
      "metadata": {
        "id": "F69_QU_U9igH"
      },
      "source": [
        "#### 看一下我們的神經網路"
      ]
    },
    {
      "cell_type": "code",
      "metadata": {
        "id": "9EswoTpD9igI",
        "outputId": "24ad74fc-c089-4c25-e931-8bc1b6ce7730",
        "colab": {
          "base_uri": "https://localhost:8080/"
        }
      },
      "source": [
        "model.summary()"
      ],
      "execution_count": 20,
      "outputs": [
        {
          "output_type": "stream",
          "text": [
            "Model: \"sequential\"\n",
            "_________________________________________________________________\n",
            "Layer (type)                 Output Shape              Param #   \n",
            "=================================================================\n",
            "conv2d (Conv2D)              (None, 28, 28, 16)        160       \n",
            "_________________________________________________________________\n",
            "max_pooling2d (MaxPooling2D) (None, 14, 14, 16)        0         \n",
            "_________________________________________________________________\n",
            "conv2d_1 (Conv2D)            (None, 14, 14, 32)        4640      \n",
            "_________________________________________________________________\n",
            "max_pooling2d_1 (MaxPooling2 (None, 7, 7, 32)          0         \n",
            "_________________________________________________________________\n",
            "max_pooling2d_2 (MaxPooling2 (None, 3, 3, 32)          0         \n",
            "_________________________________________________________________\n",
            "conv2d_2 (Conv2D)            (None, 3, 3, 64)          18496     \n",
            "_________________________________________________________________\n",
            "max_pooling2d_3 (MaxPooling2 (None, 1, 1, 64)          0         \n",
            "_________________________________________________________________\n",
            "flatten (Flatten)            (None, 64)                0         \n",
            "_________________________________________________________________\n",
            "dense (Dense)                (None, 54)                3510      \n",
            "_________________________________________________________________\n",
            "dense_1 (Dense)              (None, 10)                550       \n",
            "=================================================================\n",
            "Total params: 27,356\n",
            "Trainable params: 27,356\n",
            "Non-trainable params: 0\n",
            "_________________________________________________________________\n"
          ],
          "name": "stdout"
        }
      ]
    },
    {
      "cell_type": "markdown",
      "metadata": {
        "id": "bq8hnMww9igN"
      },
      "source": [
        "#### 組裝"
      ]
    },
    {
      "cell_type": "code",
      "metadata": {
        "id": "QeHaPHKO9igO"
      },
      "source": [
        "model.compile(loss='mse', optimizer=SGD(lr=0.087),\n",
        "             metrics=['accuracy'])"
      ],
      "execution_count": 21,
      "outputs": []
    },
    {
      "cell_type": "markdown",
      "metadata": {
        "id": "uiGUYQhk9igQ"
      },
      "source": [
        "### 4. step 2: fit"
      ]
    },
    {
      "cell_type": "code",
      "metadata": {
        "scrolled": true,
        "id": "lzIwx-XR9igT",
        "outputId": "c82e6015-a021-4ebb-bab3-16903be209d2",
        "colab": {
          "base_uri": "https://localhost:8080/"
        }
      },
      "source": [
        "model.fit(x_train, y_train, batch_size=128, epochs=12)"
      ],
      "execution_count": 22,
      "outputs": [
        {
          "output_type": "stream",
          "text": [
            "Epoch 1/12\n",
            "469/469 [==============================] - 1s 3ms/step - loss: 0.0899 - accuracy: 0.1094\n",
            "Epoch 2/12\n",
            "469/469 [==============================] - 1s 3ms/step - loss: 0.0897 - accuracy: 0.2423\n",
            "Epoch 3/12\n",
            "469/469 [==============================] - 1s 3ms/step - loss: 0.0894 - accuracy: 0.2752\n",
            "Epoch 4/12\n",
            "469/469 [==============================] - 1s 3ms/step - loss: 0.0889 - accuracy: 0.2754\n",
            "Epoch 5/12\n",
            "469/469 [==============================] - 1s 3ms/step - loss: 0.0881 - accuracy: 0.2851\n",
            "Epoch 6/12\n",
            "469/469 [==============================] - 1s 3ms/step - loss: 0.0851 - accuracy: 0.2968\n",
            "Epoch 7/12\n",
            "469/469 [==============================] - 1s 3ms/step - loss: 0.0722 - accuracy: 0.4299\n",
            "Epoch 8/12\n",
            "469/469 [==============================] - 1s 3ms/step - loss: 0.0498 - accuracy: 0.6631\n",
            "Epoch 9/12\n",
            "469/469 [==============================] - 1s 3ms/step - loss: 0.0299 - accuracy: 0.8135\n",
            "Epoch 10/12\n",
            "469/469 [==============================] - 1s 3ms/step - loss: 0.0198 - accuracy: 0.8769\n",
            "Epoch 11/12\n",
            "469/469 [==============================] - 1s 3ms/step - loss: 0.0149 - accuracy: 0.9067\n",
            "Epoch 12/12\n",
            "469/469 [==============================] - 1s 3ms/step - loss: 0.0124 - accuracy: 0.9220\n"
          ],
          "name": "stdout"
        },
        {
          "output_type": "execute_result",
          "data": {
            "text/plain": [
              "<tensorflow.python.keras.callbacks.History at 0x7fef8c1c7e80>"
            ]
          },
          "metadata": {
            "tags": []
          },
          "execution_count": 22
        }
      ]
    },
    {
      "cell_type": "markdown",
      "metadata": {
        "id": "zHElNlUs9igW"
      },
      "source": [
        "### Step 3. 預測"
      ]
    },
    {
      "cell_type": "code",
      "metadata": {
        "id": "ONezR1Og9igX",
        "outputId": "eeac85da-5d06-4d3f-b5d2-7a415c8d9326",
        "colab": {
          "base_uri": "https://localhost:8080/"
        }
      },
      "source": [
        "result = model.predict_classes(x_test)"
      ],
      "execution_count": 23,
      "outputs": [
        {
          "output_type": "stream",
          "text": [
            "WARNING:tensorflow:From <ipython-input-23-63af5bb2f9b6>:1: Sequential.predict_classes (from tensorflow.python.keras.engine.sequential) is deprecated and will be removed after 2021-01-01.\n",
            "Instructions for updating:\n",
            "Please use instead:* `np.argmax(model.predict(x), axis=-1)`,   if your model does multi-class classification   (e.g. if it uses a `softmax` last-layer activation).* `(model.predict(x) > 0.5).astype(\"int32\")`,   if your model does binary classification   (e.g. if it uses a `sigmoid` last-layer activation).\n"
          ],
          "name": "stdout"
        }
      ]
    },
    {
      "cell_type": "markdown",
      "metadata": {
        "id": "rE6Ri-fU9igZ"
      },
      "source": [
        "### 看看測試資料表現如何"
      ]
    },
    {
      "cell_type": "code",
      "metadata": {
        "id": "Zevj_z3D9iga",
        "outputId": "2e1b9249-d998-4284-bd36-117903734db1",
        "colab": {
          "base_uri": "https://localhost:8080/"
        }
      },
      "source": [
        "loss, acc = model.evaluate(x_test, y_test)"
      ],
      "execution_count": 24,
      "outputs": [
        {
          "output_type": "stream",
          "text": [
            "313/313 [==============================] - 1s 2ms/step - loss: 0.0110 - accuracy: 0.9311\n"
          ],
          "name": "stdout"
        }
      ]
    },
    {
      "cell_type": "code",
      "metadata": {
        "id": "IF6hI3RY9igc",
        "outputId": "509d5937-9480-467f-88d0-06f841308fd0",
        "colab": {
          "base_uri": "https://localhost:8080/"
        }
      },
      "source": [
        "print(f'測試資料的正確率為 {acc*100:.2f}%')"
      ],
      "execution_count": 25,
      "outputs": [
        {
          "output_type": "stream",
          "text": [
            "測試資料的正確率為 93.11%\n"
          ],
          "name": "stdout"
        }
      ]
    },
    {
      "cell_type": "code",
      "metadata": {
        "id": "fu7unwjN9igf"
      },
      "source": [
        "def my_predict(n):\n",
        "    print('我可愛的 CNN 預測是', result[n])\n",
        "    X = x_test[n].reshape(28,28)\n",
        "    plt.imshow(X, cmap='Greys')"
      ],
      "execution_count": null,
      "outputs": []
    },
    {
      "cell_type": "code",
      "metadata": {
        "id": "GJZOStCI9igi"
      },
      "source": [
        "from ipywidgets import interact_manual"
      ],
      "execution_count": null,
      "outputs": []
    },
    {
      "cell_type": "code",
      "metadata": {
        "id": "AvkJAZf39igk",
        "outputId": "a16abd06-f02d-484f-f410-070493ed0229",
        "colab": {
          "referenced_widgets": [
            "85a81e99f4ab4a55a1a5fe21ed90e03a"
          ]
        }
      },
      "source": [
        "interact_manual(my_predict, n=(0, 9999));"
      ],
      "execution_count": null,
      "outputs": [
        {
          "output_type": "display_data",
          "data": {
            "application/vnd.jupyter.widget-view+json": {
              "model_id": "85a81e99f4ab4a55a1a5fe21ed90e03a",
              "version_major": 2,
              "version_minor": 0
            },
            "text/plain": [
              "interactive(children=(IntSlider(value=4999, description='n', max=9999), Button(description='Run Interact', sty…"
            ]
          },
          "metadata": {
            "tags": []
          }
        },
        {
          "output_type": "execute_result",
          "data": {
            "text/plain": [
              "<function __main__.my_predict(n)>"
            ]
          },
          "metadata": {
            "tags": []
          },
          "execution_count": 26
        }
      ]
    },
    {
      "cell_type": "markdown",
      "metadata": {
        "id": "eP8f6Nxv9igo"
      },
      "source": [
        "### 把我們的 model 存起來"
      ]
    },
    {
      "cell_type": "code",
      "metadata": {
        "id": "FKJ2vAjH9igp"
      },
      "source": [
        "model.save('myCNNmodel.h5')"
      ],
      "execution_count": null,
      "outputs": []
    }
  ]
}